{
 "cells": [
  {
   "cell_type": "code",
   "execution_count": null,
   "metadata": {
    "collapsed": true
   },
   "outputs": [],
   "source": [
    "#The first session contain aws auomation using boto3\n",
    "\n",
    "#section 2 contains data wrangling and uploading . Further the script automates the process of report generatio"
   ]
  },
  {
   "cell_type": "code",
   "execution_count": null,
   "metadata": {
    "collapsed": true
   },
   "outputs": [],
   "source": [
    "\n",
    "#section 1\n",
    "import boto3"
   ]
  },
  {
   "cell_type": "code",
   "execution_count": null,
   "metadata": {
    "collapsed": true
   },
   "outputs": [],
   "source": [
    "#create a bucket\n",
    "\n",
    "bucketname='anaysis'\n",
    "\n",
    "\n",
    "s3client = boto3.client('s3')\n",
    "\n",
    "\n",
    "try:\n",
    "    response = s3client.create_bucket(Bucket=bucketname,CreateBucketConfiguration={\n",
    "        'LocationConstraint': 'us-west-2'\n",
    "    })\n",
    "    print(response)\n",
    "except Exception as error:\n",
    "    print(error)\n",
    "\n",
    "    \n",
    "\n"
   ]
  },
  {
   "cell_type": "code",
   "execution_count": null,
   "metadata": {
    "collapsed": true
   },
   "outputs": [],
   "source": [
    "#uploading file to s3\n",
    "s3resource = boto3.resource('s3')\n",
    "bucket = s3resource.Bucket('analysis')\n",
    "\n",
    "\n",
    "try:\n",
    "    response=s3resource.Bucket('analysis').upload_file('BusinessIntelligenceExercise.csv','BusinessIntelligenceExercise.csv')\n",
    "    print(response)\n",
    "except Exception as error:\n",
    "    print(error)"
   ]
  },
  {
   "cell_type": "code",
   "execution_count": null,
   "metadata": {
    "collapsed": true
   },
   "outputs": [],
   "source": [
    "\n",
    "#creating a AWS RDS instance to work\n",
    "rds = boto3.client('rds')\n",
    "rds_instance=rds.describe_db_instances()\n"
   ]
  },
  {
   "cell_type": "code",
   "execution_count": null,
   "metadata": {
    "collapsed": true
   },
   "outputs": [],
   "source": [
    "\n",
    "try:\n",
    "    response = rds.create_db_instance(\n",
    "\n",
    "\n",
    "        DBInstanceIdentifier='mysqlserver',\n",
    "        AllocatedStorage=20,\n",
    "        DBInstanceClass='db.t2.micro',\n",
    "        Engine='mysql',\n",
    "        MasterUsername='sqladmin',\n",
    "        MasterUserPassword='abcde12345',\n",
    "        LicenseModel='license-included')\n",
    "    print(response)\n",
    "except Exception as error:\n",
    "    print(error)"
   ]
  },
  {
   "cell_type": "code",
   "execution_count": 27,
   "metadata": {
    "collapsed": true
   },
   "outputs": [],
   "source": [
    "#section2:\n",
    "\n",
    "import pandas as pd\n",
    "import pymysql\n",
    "import pandas.io.sql as sql\n",
    "from sqlalchemy import create_engine\n",
    "from sqlalchemy.types import NVARCHAR\n",
    "from sqlalchemy.types import VARCHAR\n",
    "from sqlalchemy.types import DATETIME\n"
   ]
  },
  {
   "cell_type": "code",
   "execution_count": 29,
   "metadata": {},
   "outputs": [
    {
     "name": "stdout",
     "output_type": "stream",
     "text": [
      "Creating Database\n",
      "(1007, \"Can't create database 'analysis'; database exists\")\n",
      "(1050, \"Table 'clicklogs' already exists\")\n"
     ]
    }
   ],
   "source": [
    "\n",
    "#ran into issues with rds regarding uploaidng the huge .sql file to execute had to change parameters group to modify max packet size and increased timeout\n",
    "# the rds was very slow compared to my local instance hence shifted to the localhost mysql instance. replcae with aws endpoint to connect\n",
    "# create tables for processing\n",
    "try:\n",
    "    print('Creating Database')\n",
    "    \n",
    "    conn = pymysql.connect(host='127.0.0.1', port=3306, user='root', passwd='sagar1991$')\n",
    "\n",
    "    cur = conn.cursor()\n",
    "\n",
    "    cur.execute(\"create database analysis\")\n",
    "    \n",
    "    conn.commit()\n",
    "   \n",
    "except Exception as error:\n",
    "    print(error)   \n",
    "    \n",
    "try:\n",
    "    conn = pymysql.connect(host='127.0.0.1', port=3306, user='root', passwd='sagar1991$',db='analysis')\n",
    "\n",
    "    cur = conn.cursor()\n",
    "\n",
    "    #cur.execute(\"drop table clicklogs;\")\n",
    "    cur.execute(' create table clicklogs (event_time nvarchar(30),user_id nvarchar(150),event_type nvarchar(50),platform nvarchar(50),country nvarchar(50),region nvarchar(50),device_id nvarchar(150),initial_referring_domain varchar(50));')\n",
    "\n",
    "    conn.commit()\n",
    "except Exception as error:\n",
    "    print(error)   "
   ]
  },
  {
   "cell_type": "code",
   "execution_count": 21,
   "metadata": {
    "collapsed": true
   },
   "outputs": [],
   "source": [
    "df=pd.read_csv('BusinessIntelligenceExercise.csv',encoding='utf-8')\n"
   ]
  },
  {
   "cell_type": "code",
   "execution_count": 5,
   "metadata": {},
   "outputs": [
    {
     "data": {
      "text/html": [
       "<div>\n",
       "<style>\n",
       "    .dataframe thead tr:only-child th {\n",
       "        text-align: right;\n",
       "    }\n",
       "\n",
       "    .dataframe thead th {\n",
       "        text-align: left;\n",
       "    }\n",
       "\n",
       "    .dataframe tbody tr th {\n",
       "        vertical-align: top;\n",
       "    }\n",
       "</style>\n",
       "<table border=\"1\" class=\"dataframe\">\n",
       "  <thead>\n",
       "    <tr style=\"text-align: right;\">\n",
       "      <th></th>\n",
       "      <th>event_time</th>\n",
       "      <th>user_id</th>\n",
       "      <th>event_type</th>\n",
       "      <th>platform</th>\n",
       "      <th>country</th>\n",
       "      <th>region</th>\n",
       "      <th>device_id</th>\n",
       "      <th>initial_referring_domain</th>\n",
       "    </tr>\n",
       "  </thead>\n",
       "  <tbody>\n",
       "    <tr>\n",
       "      <th>0</th>\n",
       "      <td>2018-01-10 00:00:09</td>\n",
       "      <td>e60a96af98eb7fc5d33e731f7ce2a6a2</td>\n",
       "      <td>home_page</td>\n",
       "      <td>iOS</td>\n",
       "      <td>United States</td>\n",
       "      <td>California</td>\n",
       "      <td>767552034c51c3802b525334772e1f2e</td>\n",
       "      <td>NaN</td>\n",
       "    </tr>\n",
       "    <tr>\n",
       "      <th>1</th>\n",
       "      <td>2018-01-10 00:00:19</td>\n",
       "      <td>ce1e97cf6c1dcf91ad09e0599f46b852</td>\n",
       "      <td>home_page</td>\n",
       "      <td>Web</td>\n",
       "      <td>United States</td>\n",
       "      <td>California</td>\n",
       "      <td>04478521debfe3597d73e282bbbebed6</td>\n",
       "      <td>google</td>\n",
       "    </tr>\n",
       "    <tr>\n",
       "      <th>2</th>\n",
       "      <td>2018-01-10 00:00:21</td>\n",
       "      <td>ce1e97cf6c1dcf91ad09e0599f46b852</td>\n",
       "      <td>home_page</td>\n",
       "      <td>Web</td>\n",
       "      <td>United States</td>\n",
       "      <td>California</td>\n",
       "      <td>04478521debfe3597d73e282bbbebed6</td>\n",
       "      <td>google</td>\n",
       "    </tr>\n",
       "    <tr>\n",
       "      <th>3</th>\n",
       "      <td>2018-01-10 00:00:22</td>\n",
       "      <td>e60a96af98eb7fc5d33e731f7ce2a6a2</td>\n",
       "      <td>store_ordering_page</td>\n",
       "      <td>iOS</td>\n",
       "      <td>United States</td>\n",
       "      <td>California</td>\n",
       "      <td>767552034c51c3802b525334772e1f2e</td>\n",
       "      <td>NaN</td>\n",
       "    </tr>\n",
       "    <tr>\n",
       "      <th>4</th>\n",
       "      <td>2018-01-10 00:00:24</td>\n",
       "      <td>554d97b7404288de4492bd852278e6da</td>\n",
       "      <td>home_page</td>\n",
       "      <td>iOS</td>\n",
       "      <td>United States</td>\n",
       "      <td>New York</td>\n",
       "      <td>dd3cba046870e4d70aa40efbbc8f2015</td>\n",
       "      <td>NaN</td>\n",
       "    </tr>\n",
       "  </tbody>\n",
       "</table>\n",
       "</div>"
      ],
      "text/plain": [
       "            event_time                           user_id           event_type  \\\n",
       "0  2018-01-10 00:00:09  e60a96af98eb7fc5d33e731f7ce2a6a2            home_page   \n",
       "1  2018-01-10 00:00:19  ce1e97cf6c1dcf91ad09e0599f46b852            home_page   \n",
       "2  2018-01-10 00:00:21  ce1e97cf6c1dcf91ad09e0599f46b852            home_page   \n",
       "3  2018-01-10 00:00:22  e60a96af98eb7fc5d33e731f7ce2a6a2  store_ordering_page   \n",
       "4  2018-01-10 00:00:24  554d97b7404288de4492bd852278e6da            home_page   \n",
       "\n",
       "  platform        country      region                         device_id  \\\n",
       "0      iOS  United States  California  767552034c51c3802b525334772e1f2e   \n",
       "1      Web  United States  California  04478521debfe3597d73e282bbbebed6   \n",
       "2      Web  United States  California  04478521debfe3597d73e282bbbebed6   \n",
       "3      iOS  United States  California  767552034c51c3802b525334772e1f2e   \n",
       "4      iOS  United States    New York  dd3cba046870e4d70aa40efbbc8f2015   \n",
       "\n",
       "  initial_referring_domain  \n",
       "0                      NaN  \n",
       "1                   google  \n",
       "2                   google  \n",
       "3                      NaN  \n",
       "4                      NaN  "
      ]
     },
     "execution_count": 5,
     "metadata": {},
     "output_type": "execute_result"
    }
   ],
   "source": [
    "df.head(5)\n",
    "\n"
   ]
  },
  {
   "cell_type": "code",
   "execution_count": 4,
   "metadata": {
    "collapsed": true
   },
   "outputs": [],
   "source": [
    "m='Insert into clicklogs values'\n",
    "for index,row in df.iterrows():\n",
    "    s=''\n",
    "    for x in range(len(row)):\n",
    "        s+='\\'%s\\','%row[x]\n",
    "    s = s[:-1]\n",
    "        \n",
    "    m+='(%s ),'%s\n",
    "m=m[:-1]+';'   \n"
   ]
  },
  {
   "cell_type": "code",
   "execution_count": 5,
   "metadata": {},
   "outputs": [
    {
     "data": {
      "text/plain": [
       "5349124"
      ]
     },
     "execution_count": 5,
     "metadata": {},
     "output_type": "execute_result"
    }
   ],
   "source": [
    "\n",
    "f=open('insert.sql','w+')\n",
    "f.write(m)\n",
    "# the insert statement files can be used to load into database \n",
    "#i ran into error with timeout and max packet size which has to be edited in the settings to succesfully execute it"
   ]
  },
  {
   "cell_type": "code",
   "execution_count": 25,
   "metadata": {},
   "outputs": [
    {
     "name": "stdout",
     "output_type": "stream",
     "text": [
      "(1046, 'No database selected')\n"
     ]
    }
   ],
   "source": [
    "try:\n",
    "    cur.execute(m)\n",
    "\n",
    "except Exception as error:\n",
    "    print(error)   "
   ]
  },
  {
   "cell_type": "code",
   "execution_count": null,
   "metadata": {
    "collapsed": true
   },
   "outputs": [],
   "source": [
    "#ideal way of representing data would be converting the data into dimensional models."
   ]
  },
  {
   "cell_type": "code",
   "execution_count": 14,
   "metadata": {
    "collapsed": true
   },
   "outputs": [],
   "source": [
    "#Thought process: \n",
    "\n",
    "#every customer logs in into his doordash applicaion. He browses around,may be shortlists a restaurant , switches between the pages back and forth\n",
    "#Hence the concept of session is very important. I am assuming a customer who has not interacted with the app for next 60 mins starts a new session"
   ]
  },
  {
   "cell_type": "code",
   "execution_count": 38,
   "metadata": {},
   "outputs": [],
   "source": [
    "try:\n",
    "    sessionsql=open('create_session.sql','r')\n",
    "    cur.execute(sessionsql.read())\n",
    "    conn.commit()\n",
    "except Exception as error:\n",
    "    print(error)   "
   ]
  },
  {
   "cell_type": "code",
   "execution_count": 39,
   "metadata": {},
   "outputs": [],
   "source": [
    "try:\n",
    "    sessioninsert = open('session.sql','r')\n",
    "    cur.execute(sessioninsert.read())\n",
    "    conn.commit()\n",
    "except Exception as error:\n",
    "    print(error)   \n",
    "# the variable 30 min can be changed in the sql for differnt values and observer the changes with respect to net conversion at each stage."
   ]
  },
  {
   "cell_type": "code",
   "execution_count": 41,
   "metadata": {},
   "outputs": [],
   "source": [
    "try:\n",
    "   \n",
    "    cur.execute('select * from tblsession where user_id=\\'000068b718046bbefe2a8a0f66da663e\\';')\n",
    "    result=cur.fetchall()\n",
    "except Exception as error:\n",
    "    print(error)   "
   ]
  },
  {
   "cell_type": "code",
   "execution_count": 54,
   "metadata": {},
   "outputs": [],
   "source": [
    "result=pd.read_sql('select * from tblsession where user_id=\\'000068b718046bbefe2a8a0f66da663e\\';',conn)"
   ]
  },
  {
   "cell_type": "code",
   "execution_count": 55,
   "metadata": {},
   "outputs": [
    {
     "data": {
      "text/html": [
       "<div>\n",
       "<style>\n",
       "    .dataframe thead tr:only-child th {\n",
       "        text-align: right;\n",
       "    }\n",
       "\n",
       "    .dataframe thead th {\n",
       "        text-align: left;\n",
       "    }\n",
       "\n",
       "    .dataframe tbody tr th {\n",
       "        vertical-align: top;\n",
       "    }\n",
       "</style>\n",
       "<table border=\"1\" class=\"dataframe\">\n",
       "  <thead>\n",
       "    <tr style=\"text-align: right;\">\n",
       "      <th></th>\n",
       "      <th>sessionid</th>\n",
       "      <th>event_time</th>\n",
       "      <th>user_id</th>\n",
       "      <th>event_type</th>\n",
       "      <th>platform</th>\n",
       "      <th>region</th>\n",
       "      <th>country</th>\n",
       "    </tr>\n",
       "  </thead>\n",
       "  <tbody>\n",
       "    <tr>\n",
       "      <th>0</th>\n",
       "      <td>1</td>\n",
       "      <td>2018-01-14 01:55:28</td>\n",
       "      <td>000068b718046bbefe2a8a0f66da663e</td>\n",
       "      <td>home_page</td>\n",
       "      <td>iOS</td>\n",
       "      <td>Texas</td>\n",
       "      <td>United States</td>\n",
       "    </tr>\n",
       "    <tr>\n",
       "      <th>1</th>\n",
       "      <td>1</td>\n",
       "      <td>2018-01-14 02:17:16</td>\n",
       "      <td>000068b718046bbefe2a8a0f66da663e</td>\n",
       "      <td>home_page</td>\n",
       "      <td>iOS</td>\n",
       "      <td>Texas</td>\n",
       "      <td>United States</td>\n",
       "    </tr>\n",
       "    <tr>\n",
       "      <th>2</th>\n",
       "      <td>1</td>\n",
       "      <td>2018-01-14 02:17:21</td>\n",
       "      <td>000068b718046bbefe2a8a0f66da663e</td>\n",
       "      <td>home_page</td>\n",
       "      <td>iOS</td>\n",
       "      <td>Texas</td>\n",
       "      <td>United States</td>\n",
       "    </tr>\n",
       "    <tr>\n",
       "      <th>3</th>\n",
       "      <td>1</td>\n",
       "      <td>2018-01-14 02:17:22</td>\n",
       "      <td>000068b718046bbefe2a8a0f66da663e</td>\n",
       "      <td>home_page</td>\n",
       "      <td>iOS</td>\n",
       "      <td>Texas</td>\n",
       "      <td>United States</td>\n",
       "    </tr>\n",
       "    <tr>\n",
       "      <th>4</th>\n",
       "      <td>1</td>\n",
       "      <td>2018-01-14 02:17:55</td>\n",
       "      <td>000068b718046bbefe2a8a0f66da663e</td>\n",
       "      <td>store_ordering_page</td>\n",
       "      <td>iOS</td>\n",
       "      <td>Texas</td>\n",
       "      <td>United States</td>\n",
       "    </tr>\n",
       "    <tr>\n",
       "      <th>5</th>\n",
       "      <td>1</td>\n",
       "      <td>2018-01-14 02:18:49</td>\n",
       "      <td>000068b718046bbefe2a8a0f66da663e</td>\n",
       "      <td>store_ordering_page</td>\n",
       "      <td>iOS</td>\n",
       "      <td>Texas</td>\n",
       "      <td>United States</td>\n",
       "    </tr>\n",
       "    <tr>\n",
       "      <th>6</th>\n",
       "      <td>1</td>\n",
       "      <td>2018-01-14 02:24:11</td>\n",
       "      <td>000068b718046bbefe2a8a0f66da663e</td>\n",
       "      <td>checkout_page</td>\n",
       "      <td>iOS</td>\n",
       "      <td>Texas</td>\n",
       "      <td>United States</td>\n",
       "    </tr>\n",
       "    <tr>\n",
       "      <th>7</th>\n",
       "      <td>1</td>\n",
       "      <td>2018-01-14 02:24:40</td>\n",
       "      <td>000068b718046bbefe2a8a0f66da663e</td>\n",
       "      <td>home_page</td>\n",
       "      <td>iOS</td>\n",
       "      <td>Texas</td>\n",
       "      <td>United States</td>\n",
       "    </tr>\n",
       "    <tr>\n",
       "      <th>8</th>\n",
       "      <td>1</td>\n",
       "      <td>2018-01-14 02:24:51</td>\n",
       "      <td>000068b718046bbefe2a8a0f66da663e</td>\n",
       "      <td>checkout_success</td>\n",
       "      <td>iOS</td>\n",
       "      <td>Texas</td>\n",
       "      <td>United States</td>\n",
       "    </tr>\n",
       "    <tr>\n",
       "      <th>9</th>\n",
       "      <td>1</td>\n",
       "      <td>2018-01-14 02:31:26</td>\n",
       "      <td>000068b718046bbefe2a8a0f66da663e</td>\n",
       "      <td>home_page</td>\n",
       "      <td>iOS</td>\n",
       "      <td>Texas</td>\n",
       "      <td>United States</td>\n",
       "    </tr>\n",
       "    <tr>\n",
       "      <th>10</th>\n",
       "      <td>1</td>\n",
       "      <td>2018-01-14 02:31:29</td>\n",
       "      <td>000068b718046bbefe2a8a0f66da663e</td>\n",
       "      <td>home_page</td>\n",
       "      <td>iOS</td>\n",
       "      <td>Texas</td>\n",
       "      <td>United States</td>\n",
       "    </tr>\n",
       "    <tr>\n",
       "      <th>11</th>\n",
       "      <td>1</td>\n",
       "      <td>2018-01-14 02:37:44</td>\n",
       "      <td>000068b718046bbefe2a8a0f66da663e</td>\n",
       "      <td>home_page</td>\n",
       "      <td>iOS</td>\n",
       "      <td>Texas</td>\n",
       "      <td>United States</td>\n",
       "    </tr>\n",
       "    <tr>\n",
       "      <th>12</th>\n",
       "      <td>1</td>\n",
       "      <td>2018-01-14 02:42:43</td>\n",
       "      <td>000068b718046bbefe2a8a0f66da663e</td>\n",
       "      <td>home_page</td>\n",
       "      <td>iOS</td>\n",
       "      <td>Texas</td>\n",
       "      <td>United States</td>\n",
       "    </tr>\n",
       "    <tr>\n",
       "      <th>13</th>\n",
       "      <td>1</td>\n",
       "      <td>2018-01-14 02:44:55</td>\n",
       "      <td>000068b718046bbefe2a8a0f66da663e</td>\n",
       "      <td>home_page</td>\n",
       "      <td>iOS</td>\n",
       "      <td>Texas</td>\n",
       "      <td>United States</td>\n",
       "    </tr>\n",
       "    <tr>\n",
       "      <th>14</th>\n",
       "      <td>2</td>\n",
       "      <td>2018-01-14 19:48:20</td>\n",
       "      <td>000068b718046bbefe2a8a0f66da663e</td>\n",
       "      <td>home_page</td>\n",
       "      <td>iOS</td>\n",
       "      <td>Texas</td>\n",
       "      <td>United States</td>\n",
       "    </tr>\n",
       "    <tr>\n",
       "      <th>15</th>\n",
       "      <td>2</td>\n",
       "      <td>2018-01-14 19:48:27</td>\n",
       "      <td>000068b718046bbefe2a8a0f66da663e</td>\n",
       "      <td>home_page</td>\n",
       "      <td>iOS</td>\n",
       "      <td>Texas</td>\n",
       "      <td>United States</td>\n",
       "    </tr>\n",
       "    <tr>\n",
       "      <th>16</th>\n",
       "      <td>2</td>\n",
       "      <td>2018-01-14 19:48:27</td>\n",
       "      <td>000068b718046bbefe2a8a0f66da663e</td>\n",
       "      <td>home_page</td>\n",
       "      <td>iOS</td>\n",
       "      <td>Texas</td>\n",
       "      <td>United States</td>\n",
       "    </tr>\n",
       "    <tr>\n",
       "      <th>17</th>\n",
       "      <td>3</td>\n",
       "      <td>2018-01-15 23:28:26</td>\n",
       "      <td>000068b718046bbefe2a8a0f66da663e</td>\n",
       "      <td>home_page</td>\n",
       "      <td>iOS</td>\n",
       "      <td>Texas</td>\n",
       "      <td>United States</td>\n",
       "    </tr>\n",
       "    <tr>\n",
       "      <th>18</th>\n",
       "      <td>3</td>\n",
       "      <td>2018-01-15 23:30:27</td>\n",
       "      <td>000068b718046bbefe2a8a0f66da663e</td>\n",
       "      <td>home_page</td>\n",
       "      <td>iOS</td>\n",
       "      <td>Texas</td>\n",
       "      <td>United States</td>\n",
       "    </tr>\n",
       "    <tr>\n",
       "      <th>19</th>\n",
       "      <td>3</td>\n",
       "      <td>2018-01-15 23:30:42</td>\n",
       "      <td>000068b718046bbefe2a8a0f66da663e</td>\n",
       "      <td>store_ordering_page</td>\n",
       "      <td>iOS</td>\n",
       "      <td>Texas</td>\n",
       "      <td>United States</td>\n",
       "    </tr>\n",
       "  </tbody>\n",
       "</table>\n",
       "</div>"
      ],
      "text/plain": [
       "   sessionid           event_time                           user_id  \\\n",
       "0          1  2018-01-14 01:55:28  000068b718046bbefe2a8a0f66da663e   \n",
       "1          1  2018-01-14 02:17:16  000068b718046bbefe2a8a0f66da663e   \n",
       "2          1  2018-01-14 02:17:21  000068b718046bbefe2a8a0f66da663e   \n",
       "3          1  2018-01-14 02:17:22  000068b718046bbefe2a8a0f66da663e   \n",
       "4          1  2018-01-14 02:17:55  000068b718046bbefe2a8a0f66da663e   \n",
       "5          1  2018-01-14 02:18:49  000068b718046bbefe2a8a0f66da663e   \n",
       "6          1  2018-01-14 02:24:11  000068b718046bbefe2a8a0f66da663e   \n",
       "7          1  2018-01-14 02:24:40  000068b718046bbefe2a8a0f66da663e   \n",
       "8          1  2018-01-14 02:24:51  000068b718046bbefe2a8a0f66da663e   \n",
       "9          1  2018-01-14 02:31:26  000068b718046bbefe2a8a0f66da663e   \n",
       "10         1  2018-01-14 02:31:29  000068b718046bbefe2a8a0f66da663e   \n",
       "11         1  2018-01-14 02:37:44  000068b718046bbefe2a8a0f66da663e   \n",
       "12         1  2018-01-14 02:42:43  000068b718046bbefe2a8a0f66da663e   \n",
       "13         1  2018-01-14 02:44:55  000068b718046bbefe2a8a0f66da663e   \n",
       "14         2  2018-01-14 19:48:20  000068b718046bbefe2a8a0f66da663e   \n",
       "15         2  2018-01-14 19:48:27  000068b718046bbefe2a8a0f66da663e   \n",
       "16         2  2018-01-14 19:48:27  000068b718046bbefe2a8a0f66da663e   \n",
       "17         3  2018-01-15 23:28:26  000068b718046bbefe2a8a0f66da663e   \n",
       "18         3  2018-01-15 23:30:27  000068b718046bbefe2a8a0f66da663e   \n",
       "19         3  2018-01-15 23:30:42  000068b718046bbefe2a8a0f66da663e   \n",
       "\n",
       "             event_type platform region        country  \n",
       "0             home_page      iOS  Texas  United States  \n",
       "1             home_page      iOS  Texas  United States  \n",
       "2             home_page      iOS  Texas  United States  \n",
       "3             home_page      iOS  Texas  United States  \n",
       "4   store_ordering_page      iOS  Texas  United States  \n",
       "5   store_ordering_page      iOS  Texas  United States  \n",
       "6         checkout_page      iOS  Texas  United States  \n",
       "7             home_page      iOS  Texas  United States  \n",
       "8      checkout_success      iOS  Texas  United States  \n",
       "9             home_page      iOS  Texas  United States  \n",
       "10            home_page      iOS  Texas  United States  \n",
       "11            home_page      iOS  Texas  United States  \n",
       "12            home_page      iOS  Texas  United States  \n",
       "13            home_page      iOS  Texas  United States  \n",
       "14            home_page      iOS  Texas  United States  \n",
       "15            home_page      iOS  Texas  United States  \n",
       "16            home_page      iOS  Texas  United States  \n",
       "17            home_page      iOS  Texas  United States  \n",
       "18            home_page      iOS  Texas  United States  \n",
       "19  store_ordering_page      iOS  Texas  United States  "
      ]
     },
     "execution_count": 55,
     "metadata": {},
     "output_type": "execute_result"
    }
   ],
   "source": [
    "result.head((20))"
   ]
  },
  {
   "cell_type": "code",
   "execution_count": null,
   "metadata": {
    "collapsed": true
   },
   "outputs": [],
   "source": [
    "# as noted above the session id changes only when there is a drastic change in the eventime for the given customer."
   ]
  },
  {
   "cell_type": "code",
   "execution_count": 56,
   "metadata": {
    "collapsed": true
   },
   "outputs": [],
   "source": [
    "try:\n",
    "    finalresult = open('funnelpercentage.sql','r')\n",
    "    \n",
    "    result_flow_percentage=pd.read_sql(finalresult.read(),conn)\n",
    "  \n",
    "except Exception as error:\n",
    "    print(error) "
   ]
  },
  {
   "cell_type": "code",
   "execution_count": 58,
   "metadata": {
    "collapsed": true
   },
   "outputs": [],
   "source": [
    "finalresult.close()"
   ]
  },
  {
   "cell_type": "code",
   "execution_count": 57,
   "metadata": {},
   "outputs": [
    {
     "data": {
      "text/html": [
       "<div>\n",
       "<style>\n",
       "    .dataframe thead tr:only-child th {\n",
       "        text-align: right;\n",
       "    }\n",
       "\n",
       "    .dataframe thead th {\n",
       "        text-align: left;\n",
       "    }\n",
       "\n",
       "    .dataframe tbody tr th {\n",
       "        vertical-align: top;\n",
       "    }\n",
       "</style>\n",
       "<table border=\"1\" class=\"dataframe\">\n",
       "  <thead>\n",
       "    <tr style=\"text-align: right;\">\n",
       "      <th></th>\n",
       "      <th>Page</th>\n",
       "      <th>sessionTotal</th>\n",
       "      <th>prevsession Total</th>\n",
       "      <th>Total sessions</th>\n",
       "      <th>percent dropoff at stage</th>\n",
       "      <th>Net Flow percentage</th>\n",
       "    </tr>\n",
       "  </thead>\n",
       "  <tbody>\n",
       "    <tr>\n",
       "      <th>0</th>\n",
       "      <td>home_page</td>\n",
       "      <td>3780</td>\n",
       "      <td>4910</td>\n",
       "      <td>4910</td>\n",
       "      <td>0.2301</td>\n",
       "      <td>0.7699</td>\n",
       "    </tr>\n",
       "    <tr>\n",
       "      <th>1</th>\n",
       "      <td>store_ordering_page</td>\n",
       "      <td>3728</td>\n",
       "      <td>3780</td>\n",
       "      <td>4910</td>\n",
       "      <td>0.0138</td>\n",
       "      <td>0.7593</td>\n",
       "    </tr>\n",
       "    <tr>\n",
       "      <th>2</th>\n",
       "      <td>checkout_page</td>\n",
       "      <td>1597</td>\n",
       "      <td>3728</td>\n",
       "      <td>4910</td>\n",
       "      <td>0.5716</td>\n",
       "      <td>0.3253</td>\n",
       "    </tr>\n",
       "    <tr>\n",
       "      <th>3</th>\n",
       "      <td>checkout_success</td>\n",
       "      <td>1387</td>\n",
       "      <td>1597</td>\n",
       "      <td>4910</td>\n",
       "      <td>0.1315</td>\n",
       "      <td>0.2825</td>\n",
       "    </tr>\n",
       "  </tbody>\n",
       "</table>\n",
       "</div>"
      ],
      "text/plain": [
       "                  Page  sessionTotal  prevsession Total  Total sessions  \\\n",
       "0            home_page          3780               4910            4910   \n",
       "1  store_ordering_page          3728               3780            4910   \n",
       "2        checkout_page          1597               3728            4910   \n",
       "3     checkout_success          1387               1597            4910   \n",
       "\n",
       "   percent dropoff at stage  Net Flow percentage  \n",
       "0                    0.2301               0.7699  \n",
       "1                    0.0138               0.7593  \n",
       "2                    0.5716               0.3253  \n",
       "3                    0.1315               0.2825  "
      ]
     },
     "execution_count": 57,
     "metadata": {},
     "output_type": "execute_result"
    }
   ],
   "source": [
    "result_flow_percentage.head(10)"
   ]
  },
  {
   "cell_type": "code",
   "execution_count": 59,
   "metadata": {
    "collapsed": true
   },
   "outputs": [],
   "source": [
    "#percentage drop off represents the ratio of sessions which did not proceed to the next step to the total number of sessions in the step"
   ]
  },
  {
   "cell_type": "code",
   "execution_count": 60,
   "metadata": {
    "collapsed": true
   },
   "outputs": [],
   "source": [
    "#Since the session table has already dimensions in it it becomes easy for us to further filter the data and get more precise numbers for location,refference,date and time"
   ]
  },
  {
   "cell_type": "code",
   "execution_count": null,
   "metadata": {
    "collapsed": true
   },
   "outputs": [],
   "source": [
    "#2. The search dimension would be placed above all the stages. The search will be a seperate dimension having keyowrd,inital reffering domain \n",
    "#could also come under the dimension.\n",
    "\n",
    "\n",
    "#note i have divided my initial approach for the following 6 dimension:(userid was not a dimension because it didnot have any information to store )\n",
    "\n",
    "#dim_date , dim_time ,dim_session,dim_location,dim_page,dim_inital_refference\n",
    "\n",
    "#event would be a fact less fact table to which all the dimensions join.\n",
    "\n",
    "#Due to the quantity of work involved in data wrangling i decided to base my queries out of the sessions.sql which is effectively a fact less fact table#in my case\n"
   ]
  },
  {
   "cell_type": "code",
   "execution_count": null,
   "metadata": {
    "collapsed": true
   },
   "outputs": [],
   "source": [
    "#With the addition of search :\n",
    "\n",
    "#there will be a search dimesion to the table we might even include initial reference within the the search dimension if they have similar attributes\n",
    "\n",
    "\n",
    "#The dim_search and fact_event_search in the schema concludes the data modelling task for part 2."
   ]
  }
 ],
 "metadata": {
  "kernelspec": {
   "display_name": "Python 3",
   "language": "python",
   "name": "python3"
  },
  "language_info": {
   "codemirror_mode": {
    "name": "ipython",
    "version": 3
   },
   "file_extension": ".py",
   "mimetype": "text/x-python",
   "name": "python",
   "nbconvert_exporter": "python",
   "pygments_lexer": "ipython3",
   "version": "3.6.2"
  }
 },
 "nbformat": 4,
 "nbformat_minor": 2
}
